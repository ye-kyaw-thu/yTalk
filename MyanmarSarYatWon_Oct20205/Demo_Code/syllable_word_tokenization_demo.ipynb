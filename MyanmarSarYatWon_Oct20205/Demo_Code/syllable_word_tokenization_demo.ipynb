{
 "cells": [
  {
   "cell_type": "markdown",
   "id": "0ef29e92-6217-4a31-8ac6-41f10965239e",
   "metadata": {},
   "source": [
    "# Syllable and Word Tokenization Demo for Myanmar Language  \n",
    "\n",
    "Purpose: This notebook demonstrates how to perform syllable-unit and word-unit tokenization for the Myanmar language (Burmese).  \n",
    "\n",
    "Written by Ye Kyaw Thu, LU Lab, Myanmar  \n",
    "Last updated: 1 Oct 2025  \n",
    "Demonstrated in a lecture at MyanmarSarYatWon (မြန်မာစာရပ်ဝန်း), 1 Oct 2025  \n",
    "\n",
    "Email: ykt.nlp.ai@gmail.com  "
   ]
  },
  {
   "cell_type": "markdown",
   "id": "523ad218-bee3-4448-a76e-47bfd3bed2c0",
   "metadata": {},
   "source": [
    "## Introduction to Sylbreak\n",
    "\n",
    "မြန်မာစာလုံးတွေကို ဝဏ္ဏအနေနဲ့ဖြတ်နိုင်ဖို့အတွက်က အသုံးများတဲ့ ဝဏ္ဏတွေကို အဘိဓာန်ဆောက်ပြီး ဖြတ်တာမျိုး၊ ဝဏ္ဏတစ်လုံးချင်းစီကို လက်နဲ့သေသေချာချာ ဖြတ်တောက်ထားတဲ့ ကောပတ်စ် ဆောက်ပြီး၊ အဲဒီ ကောပတ်စ်ကိုသုံးပြီး ဆောက်ထားတဲ့ မော်ဒယ် တစ်မျိုးမျိုးနဲ့ ဖြတ်တာမျိုး၊ မြန်မာဝဏ္ဏရဲ့ ဖွဲ့စည်းပုံ ဥပဒေသတွေကိုအခြေခံတဲ့ ဇယားတစ်ခုဆောက်ပြီး အဲဒီဇယားထဲက ဥပဒေသတွေနဲ့ ပရိုဂရမ်ရေးဖြတ်တာမျိုး စသည်ဖြင့် အမျိုးမျိုး လုပ်လို့ရပါတယ်။  \n",
    "ကိုယ်တိုင်လည်း အမျိုးမျိုးစမ်းသပ်ပြီး မြန်မာစာကြောင်းတွေကို ဝဏ္ဏဖြတ်တာမျိုးတွေ လုပ်ခဲ့ဖူးပါတယ်။ နောက်ဆုံး အလွယ်ဆုံးဖြစ်ပြီး၊ အသုံးလည်းဝင်တဲ့ Regular Expression (RE) ကို အခြေခံတဲ့ ဖြတ်တဲ့နည်းကိုပဲ သုံးဖြစ်နေခဲ့ပါတယ်။ အများသိအောင် GitHub မှာ ရှဲမပေးခင် NICT, Kyoto Lab အတွင်းမှာပဲ တစ်ယောက်တည်း သုံးဖြစ်နေခဲ့ပါတယ်။ နာမည်ကိုလည်း sylbreak လို့ပေးထားခဲ့ပါတယ်။ အဲဒီနောက်ပိုင်းမှာ sylbreak4all ဆိုပြီး ယူနီကုဒ်နဲ့ ရိုက်ထားတဲ့တိုင်းရင်းသား ဘာသာစကားတွေကိုပါ ဝဏ္ဏဖြတ်ဖို့ ပရိုပိုဇယ်တင်ဖြစ်ခဲ့ပါတယ်။ အဲဒါကတော့ ကျွန်တော့ကျောင်းသားတွေနဲ့ သုတေသန လုပ်ဖော်ကိုင်ဖက်တွေနဲ့ အတူတူ စမ်းသပ်ခဲ့ကြတာပါ။  \n",
    "\n",
    "sylbreak GitHub: https://github.com/ye-kyaw-thu/sylbreak\n",
    "\n"
   ]
  },
  {
   "cell_type": "markdown",
   "id": "2bed5633-322f-4839-ba8d-9342b8766943",
   "metadata": {},
   "source": [
    "အောက်ပါအတိုင်း variable တချို့ သတ်မှတ်လိုက်ပြီး   \n",
    "\n",
    "```perl\n",
    "my $myConsonant = \"က-အ\";\n",
    "my $enChar = \"a-zA-Z0-9\";\n",
    "my $otherChar = \"ဣဤဥဦဧဩဪဿ၌၍၏၀-၉၊။!-\\/:-\\@\\[-`{-~\\\\s\";\n",
    "my $ssSymbol = \"္\";\n",
    "my $aThat = \"်\";\n",
    "```\n",
    "\n",
    "RE rule တစ်ကြောင်း ချရေးလိုက်ရင် ဖြတ်လို့ ရပါပြီ။  "
   ]
  },
  {
   "cell_type": "markdown",
   "id": "f316b27a-8e20-438f-98a2-c52c1fa04256",
   "metadata": {},
   "source": [
    "## Step-by-Step Regex Explanation\n",
    "\n",
    "| Step | Component | Meaning | Example |\n",
    "|------|-----------|---------|---------|\n",
    "| 1 | `(?<!$ssSymbol)` | Negative lookbehind for \"္\" | ရှေ့မှာ ပါဌ်ဆင့် သင်္ကေတ မရှိ |\n",
    "| 2 | `[$myConsonant]` | Myanmar consonant | မြန်မာဗျည်း စာလုံးများ \"က\" ကနေ \"အ\" အထိ |\n",
    "| 3 | `(?![$aThat$ssSymbol])` | Negative lookahead for \"်\" or \"္\" | နောက်က အသတ် (သို့) ပါဌ်ဆင့် သင်္ကေတ |\n",
    "| 4 | `\\|` | OR | Alternative pattern |\n",
    "| 5 | `[$enChar$otherChar]` | English chars, numbers, symbols | a, 1, !, ဣ, etc. |\n"
   ]
  },
  {
   "cell_type": "code",
   "execution_count": 9,
   "id": "2a9c43ec-f310-4f52-bc14-883586052729",
   "metadata": {},
   "outputs": [
    {
     "data": {
      "text/html": [
       "<img src=\"./sylbreak_re3.png\"/>"
      ],
      "text/plain": [
       "<IPython.core.display.Image object>"
      ]
     },
     "execution_count": 9,
     "metadata": {},
     "output_type": "execute_result"
    }
   ],
   "source": [
    "# import image module\n",
    "from IPython.display import Image\n",
    "\n",
    "# get the image\n",
    "Image(url=\"./sylbreak_re3.png\")"
   ]
  },
  {
   "cell_type": "markdown",
   "id": "611b62f3-268c-429f-aab6-528fe81696f2",
   "metadata": {},
   "source": [
    "## sylbreak (perl code)  \n",
    "\n",
    "```perl\n",
    "#!/usr/bin/perl\n",
    "\n",
    "## syllable breaking tool for Myanmar language\n",
    "## usage: ./sylbreak.pl <-i filename>  [-s separator] [-p {0} or 1]\n",
    "## e.g. usage1: ./sylbreak.pl -i ../data/my-input\n",
    "##      usage2: cat ../data/my-input2 | ./sylbreak.pl\n",
    "##      usage3: ./sylbreak.pl -i ../data/my-input -s \"/\" -p=1\n",
    "##\n",
    "## last updated: 22 July 2016\n",
    "## added space cleaning parts: 23 May 2022\n",
    "## Author: Ye Kyaw Thu, Visiting Researcher, Waseda University\n",
    "## HP:https://sites.google.com/site/yekyawthunlp/\n",
    "\n",
    "## Reference of Myanmar Unicode: http://unicode.org/charts/PDF/U1000.pdf\n",
    "\n",
    "use strict;\n",
    "use warnings;\n",
    "use utf8;\n",
    "use Getopt::Long qw(GetOptions);\n",
    "\n",
    "binmode STDIN, \":encoding(UTF-8)\";\n",
    "binmode STDOUT, \":encoding(UTF-8)\";\n",
    "\n",
    "my $iOption; #input filename\n",
    "my $sOption; my $sep = \"\\|\"; #separator\n",
    "my $pOption; my $printInput = 0; #default value false for print option\n",
    "my $fh;\n",
    "\n",
    "GetOptions(\n",
    "   'help|h|?' => \\&help,\n",
    "   'input-file|i=s' => \\$iOption,\n",
    "   'separator|s=s' => \\$sOption,\n",
    "   'print|p=i' => \\$pOption,\n",
    ") or die \"Usage: ./syl-RE-break.pl <-i filename>  [-s separator] [-p {0} or 1]\\n\";\n",
    "\n",
    "\n",
    "if ($iOption)\n",
    "{\n",
    "  open($fh, '<:encoding(UTF-8)', $iOption) or die \"Could not open file '$iOption $!\";\n",
    "}elsif (!defined $iOption )\n",
    "{\n",
    "  $fh = *STDIN;\n",
    "}\n",
    "else\n",
    "{\n",
    "   help();\n",
    "}\n",
    "\n",
    "\n",
    "my $myConsonant = \"က-အ\";\n",
    "my $enChar = \"a-zA-Z0-9\";\n",
    "my $otherChar = \"ဣဤဥဦဧဩဪဿ၌၍၏၀-၉၊။!-\\/:-\\@\\[-`{-~\\\\s\";\n",
    "my $ssSymbol = \"္\";\n",
    "my $aThat = \"်\";\n",
    "\n",
    "\n",
    "$sep = $sOption if defined ($sOption);\n",
    "$printInput = $pOption if defined ($pOption);\n",
    "\n",
    "sub help \n",
    "{\n",
    "    print \"Usage: ./syl-RE-break.pl <-i filename>  [-s separator] [-p {0} or 1]\\n\";\n",
    "    exit(0);\n",
    "}\n",
    "\n",
    "\n",
    "while (my $line = <$fh>)\n",
    "{\n",
    "   chomp $line;\n",
    "   if ($printInput == 0)\n",
    "   {\n",
    "      \n",
    "      #Regular expression pattern for Myanmar syllable breaking\n",
    "      #*** a consonant not after a subscript symbol AND a consonant is not followed by a-That character or a subscript symbol\n",
    "      $line =~ s/((?<!$ssSymbol)[$myConsonant](?![$aThat$ssSymbol])|[$enChar$otherChar])/$sep$1/g;\n",
    "      $line =~ s/^\\s+|\\s+$//g;\n",
    "      $line =~ s/ +/ /g;      \n",
    "      print \"$line\\n\";\n",
    "   }elsif ($printInput == 1)\n",
    "   {\n",
    "      print \"input: $line\\n\";\n",
    "      $line =~ s/((?<!$ssSymbol)[$myConsonant](?![$aThat$ssSymbol])|[$enChar$otherChar])/$sep$1/g;\n",
    "      $line =~ s/^\\s+|\\s+$//g;\n",
    "      $line =~ s/ +/ /g;      \n",
    "      print \"output: $line\\n\";\n",
    "   }\n",
    "\n",
    "}\n",
    "\n",
    "close($fh); \n",
    "```"
   ]
  },
  {
   "cell_type": "code",
   "execution_count": 10,
   "id": "3b5a3e8b-58fc-434b-b17d-8957d67888c8",
   "metadata": {},
   "outputs": [
    {
     "name": "stdout",
     "output_type": "stream",
     "text": [
      "စကားပုံဟူသည် အနက်အဓိပ္ပာယ်နှင့် ပြည့်စုံ၍ လူအများ စံပြုပုံခိုင်း ပြောဆိုလေ့ရှိသော စကား၊ ပြောထုံးစကားဟူ၍ ဖွင့်ဆိုသည်။  \n",
      "(၁) ကြက်ကန်း ဆန်အိုးတိုး \n",
      "(၂) ကိုင်းကျွန်းမှီ ကျွန်းကိုင်းမှီ\n",
      "(၃) ကိုယ်ကကျူး ကိုယ့်ဒူးတောင်မယုံရ\n",
      "(၄) ကိုယ်ထင် ကုတင်ရွှေနန်း\n",
      "(၅) ကျွဲပါး စောင်းတီး \n"
     ]
    }
   ],
   "source": [
    "!cat ./data/syl/eg.txt"
   ]
  },
  {
   "cell_type": "code",
   "execution_count": 13,
   "id": "1b9f1512-f31e-4998-b2c8-5d123cfc0421",
   "metadata": {},
   "outputs": [
    {
     "name": "stdout",
     "output_type": "stream",
     "text": [
      "|စ|ကား|ပုံ|ဟူ|သည်| |အ|နက်|အ|ဓိပ္ပာယ်|နှင့်| |ပြည့်|စုံ|၍| |လူ|အ|များ| |စံ|ပြု|ပုံ|ခိုင်း| |ပြော|ဆို|လေ့|ရှိ|သော| |စ|ကား|၊| |ပြော|ထုံး|စ|ကား|ဟူ|၍| |ဖွင့်|ဆို|သည်|။| |\n",
      "|(|၁|)| |ကြက်|ကန်း| |ဆန်|အိုး|တိုး|\n",
      "|(|၂|)| |ကိုင်း|ကျွန်း|မှီ| |ကျွန်း|ကိုင်း|မှီ\n",
      "|(|၃|)| |ကိုယ်|က|ကျူး| |ကိုယ့်|ဒူး|တောင်|မ|ယုံ|ရ\n",
      "|(|၄|)| |ကိုယ်|ထင်| |ကု|တင်|ရွှေ|နန်း\n",
      "|(|၅|)| |ကျွဲ|ပါး| |စောင်း|တီး|\n"
     ]
    }
   ],
   "source": [
    "!perl ./data/syl/sylbreak.pl -i ./data/syl/eg.txt"
   ]
  },
  {
   "cell_type": "markdown",
   "id": "1073d8ed-0228-4369-9331-b921cfd43ef9",
   "metadata": {},
   "source": [
    "စာလုံးတွေကို ရိုက်တဲ့အခါမှာ Unicode typing order က မှန်ရပါမယ်။  \n",
    "ဥပမာ **\"ကိုယ့်\"** ရဲ့ **ယ ် ့** အစီအစဉ်ကို မှားယွင်းပြီး **ယ ့ ်** ဆိုတဲ့ အစီအစဉ်နဲ့ ရိုက်ထည့်ထားပါက ဝဏ္ဏနှစ်ခုအဖြစ် ဖြတ်ပေးပါလိမ့်မယ်။  \n"
   ]
  },
  {
   "cell_type": "code",
   "execution_count": 15,
   "id": "944fc4ff-c184-4d8a-a712-13df0a76d91e",
   "metadata": {},
   "outputs": [
    {
     "name": "stdout",
     "output_type": "stream",
     "text": [
      "|ကို|ယ့်\n"
     ]
    }
   ],
   "source": [
    "!echo \"ကိုယ့်\" | perl ./data/syl/sylbreak.pl"
   ]
  },
  {
   "cell_type": "markdown",
   "id": "0a59013b-bd28-4a3e-8e5d-e5fad0efdda8",
   "metadata": {},
   "source": [
    "## oppaWord  \n",
    "\n",
    "Coding အပိုင်း oppaWord ရဲ့ algorithm အပိုင်းကို ရှင်းမယ်ဆိုရင် အချိန်ထပ်ယူရပါလိမ့်မယ်။  \n",
    "ဒီနေရာမှာတော့ လက်တွေ့ လုပ်တဲ့ အပိုင်းကိုပဲ ဦးစားပေးကြည့်ရအောင်။  \n",
    "\n",
    "အသေးစိတ်က အောက်ပါလင့် ကနေ လေ့လာပါလို့ အကြံပေးချင်ပါတယ်။  \n",
    "GitHub Link: https://github.com/ye-kyaw-thu/oppaWord \n",
    "\n",
    "oppaWord အလုပ်လုပ်ပုံကို visualization လုပ်ပြရရင်တော့ အောက်ပါအတိုင်းပါ။  "
   ]
  },
  {
   "cell_type": "code",
   "execution_count": 17,
   "id": "528f33af-13cc-43f4-bbd5-a9c760cc7cec",
   "metadata": {},
   "outputs": [
    {
     "data": {
      "text/html": [
       "<img src=\"./overview-of-oppaWord.png\"/>"
      ],
      "text/plain": [
       "<IPython.core.display.Image object>"
      ]
     },
     "execution_count": 17,
     "metadata": {},
     "output_type": "execute_result"
    }
   ],
   "source": [
    "# import image module\n",
    "from IPython.display import Image\n",
    "\n",
    "# get the image\n",
    "Image(url=\"./overview-of-oppaWord.png\")"
   ]
  },
  {
   "cell_type": "code",
   "execution_count": 16,
   "id": "fd6a21ad-5270-451e-9de6-92fb46562e8d",
   "metadata": {},
   "outputs": [
    {
     "name": "stdout",
     "output_type": "stream",
     "text": [
      "usage: oppa_word.py [-h] --input INPUT [--output OUTPUT] --dict DICT\n",
      "                    [--sylfreq SYLFREQ] [--arpa ARPA]\n",
      "                    [--postrule-file POSTRULE_FILE] [--max-order MAX_ORDER]\n",
      "                    [--dict-weight DICT_WEIGHT] [--use-bimm-fallback]\n",
      "                    [--bimm-boost BIMM_BOOST] [--visualize-dag]\n",
      "                    [--dag-output-dir DAG_OUTPUT_DIR]\n",
      "                    [--space-remove-mode {all,my,my_not_num}]\n",
      "                    [--max-word-len MAX_WORD_LEN]\n",
      "\n",
      "oppa_word, Hybrid DAG + BiMM + LM Myanmar Word Segmenter with optional Aho-\n",
      "Corasick support\n",
      "\n",
      "options:\n",
      "  -h, --help            show this help message and exit\n",
      "  --input INPUT, -i INPUT\n",
      "                        Input file with one sentence per line (UTF-8)\n",
      "  --output OUTPUT, -o OUTPUT\n",
      "                        Optional output file path (default: stdout)\n",
      "  --dict DICT, -d DICT  Word dictionary file (one word per line)\n",
      "  --sylfreq SYLFREQ, -s SYLFREQ\n",
      "                        Syllable frequency file (syllable<TAB>frequency, for\n",
      "                        scoring)\n",
      "  --arpa ARPA, -a ARPA  ARPA-format syllable-level language model (optional)\n",
      "  --postrule-file POSTRULE_FILE\n",
      "                        Optional post-processing rules (e.g., merging,\n",
      "                        corrections)\n",
      "  --max-order MAX_ORDER\n",
      "                        Max LM n-gram order (default: 5)\n",
      "  --dict-weight DICT_WEIGHT\n",
      "                        Dictionary path weight in scoring (default: 10.0)\n",
      "  --use-bimm-fallback   Enable Bi-directional Maximum Matching as fallback\n",
      "  --bimm-boost BIMM_BOOST\n",
      "                        Boost score added to Bi-MM fallback path (default:\n",
      "                        0.0)\n",
      "  --visualize-dag       Generate DAG visualization (PDF per sentence)\n",
      "  --dag-output-dir DAG_OUTPUT_DIR\n",
      "                        Directory to save DAG PDFs if --visualize-dag is used\n",
      "                        (default: 'dag_viz')\n",
      "  --space-remove-mode {all,my,my_not_num}\n",
      "                        Preprocessing mode to remove spaces: 'all', 'my'\n",
      "                        (Myanmar only), or 'my_not_num (Myanmar but not\n",
      "                        including Myanmar numbers'\n",
      "  --max-word-len MAX_WORD_LEN\n",
      "                        Maximum word length in syllables (3-12, default:6)\n"
     ]
    }
   ],
   "source": [
    "! python /home/ye/exp/myTokenizer/oppaWord/oppa_word.py --help"
   ]
  },
  {
   "cell_type": "code",
   "execution_count": 19,
   "id": "d2e5270e-e88e-4cba-b8a0-2a9324ffffe5",
   "metadata": {},
   "outputs": [
    {
     "name": "stdout",
     "output_type": "stream",
     "text": [
      "စကားပုံ ဟူသည် အနက်အဓိပ္ပာယ် နှင့် ပြည့် စုံ၍ လူ အများ စံ ပြု ပုံခိုင်း ပြောဆို လေ့ ရှိ သော စကား ၊ ပြော ထုံး စကား ဟူ၍ ဖွင့်ဆို သည် ။\n",
      "(၁) ကြက် ကန်း ဆန် အိုး တိုး\n",
      "(၂) ကိုင်းကျွန်းမှီကျွန်းကိုင်းမှီ\n",
      "(၃) ကိုယ် က ကျူး ကိုယ့် ဒူး တောင် မ ယုံ ရ\n",
      "(၄) ကိုယ် ထင် ကုတင် ရွှေ နန်း\n",
      "(၅) ကျွဲ ပါး စောင်း တီး\n",
      "\n",
      "real\t0m0.066s\n",
      "user\t0m0.044s\n",
      "sys\t0m0.022s\n"
     ]
    }
   ],
   "source": [
    "! time python /home/ye/exp/myTokenizer/oppaWord/oppa_word.py \\\n",
    "  --input ./data/syl/eg.txt \\\n",
    "  --dict /home/ye/exp/myTokenizer/oppaWord/data/myg2p_mypos.dict \\\n",
    "  --arpa /home/ye/exp/myTokenizer/oppaWord/data/myMono_clean_syl.trie.bin \\\n",
    "  --use-bimm-fallback \\\n",
    "  --bimm-boost 150 \\\n",
    "  --space-remove-mode \"my_not_num\""
   ]
  },
  {
   "cell_type": "code",
   "execution_count": 23,
   "id": "a2277d0d-4869-4cf6-9901-719d263206c1",
   "metadata": {},
   "outputs": [
    {
     "name": "stdout",
     "output_type": "stream",
     "text": [
      "ထိုအခါ မောင်ရင်မောင်စိတ်တွင်း၌ စဉ်းစားဆင် ခြင်သည်ကား ယခုအခါ ရည်းစားဖြစ်သူ မမယ်မကို ဦးစွာနှုတ်ဆက်ရမည် သို့တည်းမဟုတ် အမိဖြစ်သူကို ဦးစွာနှုတ်ဆက်ရမည်မှာ     ငါမပိုင်းမဖြတ်နိုင်အောင် ရှိတော့သည်။ မမယ်မလည်း ငါ သူ့ကို ဦးစွာနှုတ်ခွန်းဆက်မည်၊ အမိအား ဦးစွာနှုတ်ခွန်းဆက်မည်ကို သတိပြုလျက် နေကောင်းနေလိမ့်မည်။ သို့သော်လည်း အမိ ဖြစ်သူအဖို့ မကောင်းသတင်းပါသည်။ အမိကိုသာလျှင် ဦးစွာနှုတ်ဆက်အံ့ဟု ကြံပြီးလျှင် မောင်ရင်မောင်က ဆိုသည်မှာ အမေ့-အဖေကား မပါလာပြီ၊ မြင်းခြံ အောက်တွင် ကျန်ရစ်ခဲ့လေပြီဆို၏။ ထိုအခါ မဖားဥ ကလည်း အလို-မောင်ရင်မောင်၊ ဘယ်အကြောင်း ကြောင့် မင့်အဖ ကျန်ရစ်ခဲ့ပါသနည်း၊  အမိအား ကုန်စင်အောင်ပြောပါဆို၏။ မောင်ရင်မောင်လည်း အမေ-ယခုအကြောင်းကား  အလွန်ထူးခြားသော  အကြောင်းဖြစ်သည်၊ ကျွန်တော့်အဖမှာ မလွှဲသာသော ကြောင့် နေရစ်ခဲ့ရှာရသည် မောင်ရင်မောင်ကဆိုလျှင် မောင်ရင်မောင်  ဤအမှုကား ထူးခြားလှသည်၊ မောင့်အဖသည် မည်သည့်နေ့ရက်လိုက်ပါလာခဲ့မည် မှာလိုက်သနည်း၊ ယခုလပြည့်ကျော်တစ်ရက်၊ နှစ်ရက် အတွင်း ရောက်မည်လော၊ မရောက်မည်လော၊ လာမည်လော၊  မလာမည်လော၊  ကိုယ့်လှေပိုင်ရှိလျက်၊ ကိုယ့်သားပဲ့နင်းမှန်လျက်၊  ကိုယ့်သားပဲ့နင်းလုပ်သည့် လှေကို မစီးမနင်းလို နေရစ်ခဲ့သည်ကား လွန်စွာထူးခြားသည်၊ အထူးအရေးကြီးသောကိစ္စ တစ်စုံတစ်ရာရှိအံ့၊ ငါ့သား မောင်ရင်မောင်သိရှိသမျှသောကိစ္စကို  အမေအားပြောကြားပါ ဆိုလျှင် မောင်ရင်မောင်လည်း မမှန်သည့်စကားကို မဆိုသင့်ပြီ၊  အမှန်ကိုပြောမှ သင့်မည်ကြံပြီးလျှင် ဤသို့ပြော၏။ အမေ-အမှန်ကို ကျွန်တော် ပြောပြရမည်ဆိုသော် ကျွန်တော်တို့အဖသည် မြင်းခြံမြို့အောက် မြင်ကွန်းမြို့၌ ကျွန်တော်တို့လှေဆိုက်ကပ်နေသည့်အတွင်း လူအပေါင်းတို့တွင်  ကျရောက် လျက်ရှိသော  ကပ်ရောဂါကြီး  ဖိစီးနှိပ်စက်သည့်အတွက် ကြောင့် အသက်ဆုံးရှုံးလေပြီ ဟူ၍ဆိုသည်တွင် ထိုမိန်းမအို မဖားဥသည် ရုတ်တရက် နောက်သို့ပြန်၍ လဲကျသောအခါ မောင်ရင်မောင် ပြေးသွားဖက်မည် အလုပ်တွင် မမယ်မက  ငိုကြွေးလျက်  ကောက်ယူပွေ့ပိုက်ပြုစုသောကြောင့် ဤနေရာကား မိန်းမနေရာ ဖြစ်သည်။ ငါဝင်ရောက်ပြုစုရန်မတော်ဟု မောင်ရင်မောင်သည် ရပ်တန့်လျက်နေလေ၏။\n"
     ]
    }
   ],
   "source": [
    "!cat ./data/mgyin.txt"
   ]
  },
  {
   "cell_type": "code",
   "execution_count": 24,
   "id": "87a26655-f6c7-4149-98a7-dc5c83bf6293",
   "metadata": {},
   "outputs": [
    {
     "name": "stdout",
     "output_type": "stream",
     "text": [
      "ထိုအခါ မောင်ရင် မောင် စိတ် တွင်း၌ စဉ်းစား ဆင်ခြင် သည် ကား ယခု အခါ ရည်းစား ဖြစ် သူမ မယ် မ ကိုဦး စွာ နှုတ်ဆက် ရ မည် သို့တည်းမဟုတ် အမိ ဖြစ် သူ ကိုဦး စွာ နှုတ်ဆက် ရ မည် မှာ ငါ မ ပိုင်း မ ဖြတ် နိုင် အောင် ရှိ တော့ သည် ။ မ မယ် မ လည်း ငါ သူ့ ကိုဦး စွာ နှုတ်ခွန်းဆက် မည် ၊ အမိ အားဦး စွာ နှုတ်ခွန်းဆက် မည် ကို သတိပြု လျက် နေကောင်း နေ လိမ့်မည် ။ သို့သော်လည်း အမိ ဖြစ် သူ အဖို့ မကောင်းသတင်း ပါ သည် ။ အမိ ကို သာ လျှင်ဦး စွာ နှုတ်ဆက် အံ့ ဟု ကြံ ပြီးလျှင် မောင်ရင် မောင် က ဆို သည်မှာ အ မေ့- အဖေ ကား မ ပါ လာ ပြီ ၊ မြင်းခြံ အောက် တွင် ကျန်ရစ် ခဲ့ လေ ပြီ ဆို၏ ။ ထိုအခါ မ ဖားဥ က လည်း အ လို- မောင်ရင် မောင် ၊ ဘယ် အကြောင်း ကြောင့် မင့် အဖ ကျန်ရစ် ခဲ့ ပါ သနည်း ၊ အမိ အား ကုန်စင်အောင် ပြော ပါ ဆို၏ ။ မောင်ရင် မောင် လည်း အ မေ- ယခု အကြောင်း ကား အလွန် ထူးခြား သော အကြောင်း ဖြစ် သည် ၊ ကျွန်တော့် အဖ မှာ မ လွှဲ သာ သောကြောင့် နေရစ် ခဲ့ ရှာ ရ သည် မောင်ရင် မောင် က ဆိုလျှင် မောင်ရင် မောင်ဤ အမှု ကား ထူးခြား လှ သည် ၊ မော င့် အဖ သည် မည် သည့် နေ့ရက် လိုက်ပါ လာ ခဲ့ မည် မှာ လိုက် သနည်း ၊ ယခု လပြည့် ကျော် တစ် ရက် ၊ နှစ် ရက် အတွင်း ရောက် မည် လော ၊ မ ရောက် မည် လော ၊ လာ မည် လော ၊ မလာ မည် လော ၊ ကိုယ့် လှေ ပိုင် ရှိ လျက် ၊ ကိုယ့် သား ပဲ့နင်း မှန် လျက် ၊ ကိုယ့် သား ပဲ့နင်း လုပ် သည့် လှေ ကို မ စီး မ နင်း လို နေရစ် ခဲ့ သည် ကား လွန်စွာ ထူးခြား သည် ၊ အထူး အရေးကြီးသော ကိစ္စ တစ်စုံတစ်ရာ ရှိ အံ့ ၊ ငါ့ သား မောင်ရင် မောင် သိရှိ သမျှ သော ကိစ္စ ကို အမေ အား ပြောကြား ပါ ဆိုလျှင် မောင်ရင် မောင် လည်း မ မှန် သည့် စကား ကို မဆို သင့် ပြီ ၊ အမှန် ကို ပြော မှ သင့် မည် ကြံ ပြီး လျှင်ဤ သို့ ပြော၏ ။ အ မေ- အမှန် ကို ကျွန်တော် ပြောပြ ရ မည် ဆိုသော် ကျွန်တော် တို့ အဖ သည် မြင်းခြံ မြို့ အောက် မြင် ကွန်း မြို့၌ ကျွန်တော် တို့ လှေ ဆိုက်ကပ် နေ သည့် အတွင်းလူ အပေါင်း တို့ တွင် ကျရောက် လျက် ရှိ သော ကပ် ရောဂါကြီး ဖိစီး နှိပ်စက် သည့်အတွက် ကြောင့် အသက် ဆုံးရှုံး လေ ပြီ ဟူ၍ ဆို သည် တွင် ထို မိန်းမ အို မ ဖားဥ သည် ရုတ်တရက် နောက် သို့ ပြန်၍ လဲကျ သောအခါ မောင်ရင် မောင် ပြေး သွား ဖက် မည် အလုပ်တွင် မ မယ် မက ငိုကြွေး လျက် ကောက်ယူ ပွေ့ပိုက် ပြုစု သော ကြောင့်ဤ နေရာ ကား မိန်းမ နေရာ ဖြစ် သည် ။ ငါ ဝင်ရောက် ပြုစု ရန် မတော် ဟု မောင်ရင် မောင် သည် ရပ်တန့် လျက် နေ လေ၏ ။\n",
      "\n",
      "real\t0m0.071s\n",
      "user\t0m0.041s\n",
      "sys\t0m0.030s\n"
     ]
    }
   ],
   "source": [
    "! time python /home/ye/exp/myTokenizer/oppaWord/oppa_word.py \\\n",
    "  --input ./data/mgyin.txt \\\n",
    "  --dict /home/ye/exp/myTokenizer/oppaWord/data/myg2p_mypos.dict \\\n",
    "  --arpa /home/ye/exp/myTokenizer/oppaWord/data/myMono_clean_syl.trie.bin \\\n",
    "  --use-bimm-fallback \\\n",
    "  --bimm-boost 150 \\\n",
    "  --space-remove-mode \"my_not_num\""
   ]
  },
  {
   "cell_type": "markdown",
   "id": "5dd1b45e-b5c8-40fc-9f99-3d3c110fbb99",
   "metadata": {},
   "source": [
    "## Notes\n",
    "\n",
    "- NLP အလုပ်တွေအပေါ်ကို မူတည်ပြီး တချို့အလုပ်တွေအတွက် ဝဏ္ဏကိုဖြတ်ပြီး လုပ်ကြတယ်။ တချို့သော အလုပ်တွေက စာလုံး (word level) သေချာဖြတ်ထားမှ သင့်တော်တဲ့ အပိုင်း ရှိပါတယ်။\n",
    "- LLM တို့လို pretrained model တွေကို သုံးတဲ့အခါမှာတော့ အဲဒီမော်ဒယ်ကို ဆောက်စဉ်က သုံးထားတဲ့ ယူနစ် (အများအားဖြင့် subword ဖြစ်ပြီး ဘာသာစကားအများကြီးအတွက် အဆင်ပြေမယ့် ပုံစံနဲ့ဖြတ်ထားတာမျိုးလည်း ရှိပါတယ်)\n",
    "- sylbreak ရော oppaword နှစ်မျိုးစလုံးကို အသုံးပြုကြည့်ကြပါ\n",
    "- အထူးသဖြင့် oppaword က စာလုံးဖြတ်မှားတာမျိုးကို post-editing RE နဲ့ ပြန်ပြင်ခိုင်းလို့ ရပါတယ်။ ပြီးတော့ စာလုံးဖြတ်ပေးတဲ့ နှုန်းက တအားမြန်တာမို့ အသုံးဝင်ပါလိမ့်မယ်\n",
    "- လက်ရှိထက် စာလုံးဖြတ်တာ မှန်ကန်ဖို့အတွက်က လူက လက်နဲ့သေသေချာချာ မှန်မှန်ကန်ကန် စာလုံးဖြတ်ထားဖို့ လိုအပ်ပါတယ်\n",
    "- ပြီးတော့ မြန်မာစာအတွက် ဘယ်လိုပုံစံနဲ့ တသတ်မှတ်တည်း ဖြစ်ရန်ဆိုတဲ့ ဥပဒေသလည်း သတ်မှတ်ပေးနိုင်ရင် ပိုကောင်းပါလိမ့်မယ်"
   ]
  },
  {
   "cell_type": "code",
   "execution_count": null,
   "id": "93213327-1696-4dc9-bdfe-fd3363decb3e",
   "metadata": {},
   "outputs": [],
   "source": []
  }
 ],
 "metadata": {
  "kernelspec": {
   "display_name": "Python 3 (ipykernel)",
   "language": "python",
   "name": "python3"
  },
  "language_info": {
   "codemirror_mode": {
    "name": "ipython",
    "version": 3
   },
   "file_extension": ".py",
   "mimetype": "text/x-python",
   "name": "python",
   "nbconvert_exporter": "python",
   "pygments_lexer": "ipython3",
   "version": "3.12.3"
  }
 },
 "nbformat": 4,
 "nbformat_minor": 5
}
